{
 "cells": [
  {
   "cell_type": "code",
   "execution_count": 1,
   "metadata": {
    "collapsed": true
   },
   "outputs": [],
   "source": [
    "#import pandas\n",
    "import pandas as pd"
   ]
  },
  {
   "cell_type": "code",
   "execution_count": 2,
   "metadata": {},
   "outputs": [
    {
     "data": {
      "text/html": [
       "<div>\n",
       "<style>\n",
       "    .dataframe thead tr:only-child th {\n",
       "        text-align: right;\n",
       "    }\n",
       "\n",
       "    .dataframe thead th {\n",
       "        text-align: left;\n",
       "    }\n",
       "\n",
       "    .dataframe tbody tr th {\n",
       "        vertical-align: top;\n",
       "    }\n",
       "</style>\n",
       "<table border=\"1\" class=\"dataframe\">\n",
       "  <thead>\n",
       "    <tr style=\"text-align: right;\">\n",
       "      <th></th>\n",
       "      <th>fixed acidity</th>\n",
       "      <th>volatile acidity</th>\n",
       "      <th>citric acid</th>\n",
       "      <th>residual sugar</th>\n",
       "      <th>chlorides</th>\n",
       "      <th>free sulfur dioxide</th>\n",
       "      <th>total sulfur dioxide</th>\n",
       "      <th>density</th>\n",
       "      <th>pH</th>\n",
       "      <th>sulphates</th>\n",
       "      <th>alcohol</th>\n",
       "      <th>quality</th>\n",
       "    </tr>\n",
       "  </thead>\n",
       "  <tbody>\n",
       "    <tr>\n",
       "      <th>0</th>\n",
       "      <td>7.0</td>\n",
       "      <td>0.27</td>\n",
       "      <td>0.36</td>\n",
       "      <td>20.7</td>\n",
       "      <td>0.045</td>\n",
       "      <td>45.0</td>\n",
       "      <td>170.0</td>\n",
       "      <td>1.0010</td>\n",
       "      <td>3.00</td>\n",
       "      <td>0.45</td>\n",
       "      <td>8.8</td>\n",
       "      <td>6</td>\n",
       "    </tr>\n",
       "    <tr>\n",
       "      <th>1</th>\n",
       "      <td>6.3</td>\n",
       "      <td>0.30</td>\n",
       "      <td>0.34</td>\n",
       "      <td>1.6</td>\n",
       "      <td>0.049</td>\n",
       "      <td>14.0</td>\n",
       "      <td>132.0</td>\n",
       "      <td>0.9940</td>\n",
       "      <td>3.30</td>\n",
       "      <td>0.49</td>\n",
       "      <td>9.5</td>\n",
       "      <td>6</td>\n",
       "    </tr>\n",
       "    <tr>\n",
       "      <th>2</th>\n",
       "      <td>8.1</td>\n",
       "      <td>0.28</td>\n",
       "      <td>0.40</td>\n",
       "      <td>6.9</td>\n",
       "      <td>0.050</td>\n",
       "      <td>30.0</td>\n",
       "      <td>97.0</td>\n",
       "      <td>0.9951</td>\n",
       "      <td>3.26</td>\n",
       "      <td>0.44</td>\n",
       "      <td>10.1</td>\n",
       "      <td>6</td>\n",
       "    </tr>\n",
       "    <tr>\n",
       "      <th>3</th>\n",
       "      <td>7.2</td>\n",
       "      <td>0.23</td>\n",
       "      <td>0.32</td>\n",
       "      <td>8.5</td>\n",
       "      <td>0.058</td>\n",
       "      <td>47.0</td>\n",
       "      <td>186.0</td>\n",
       "      <td>0.9956</td>\n",
       "      <td>3.19</td>\n",
       "      <td>0.40</td>\n",
       "      <td>9.9</td>\n",
       "      <td>6</td>\n",
       "    </tr>\n",
       "    <tr>\n",
       "      <th>4</th>\n",
       "      <td>7.2</td>\n",
       "      <td>0.23</td>\n",
       "      <td>0.32</td>\n",
       "      <td>8.5</td>\n",
       "      <td>0.058</td>\n",
       "      <td>47.0</td>\n",
       "      <td>186.0</td>\n",
       "      <td>0.9956</td>\n",
       "      <td>3.19</td>\n",
       "      <td>0.40</td>\n",
       "      <td>9.9</td>\n",
       "      <td>6</td>\n",
       "    </tr>\n",
       "  </tbody>\n",
       "</table>\n",
       "</div>"
      ],
      "text/plain": [
       "   fixed acidity  volatile acidity  citric acid  residual sugar  chlorides  \\\n",
       "0            7.0              0.27         0.36            20.7      0.045   \n",
       "1            6.3              0.30         0.34             1.6      0.049   \n",
       "2            8.1              0.28         0.40             6.9      0.050   \n",
       "3            7.2              0.23         0.32             8.5      0.058   \n",
       "4            7.2              0.23         0.32             8.5      0.058   \n",
       "\n",
       "   free sulfur dioxide  total sulfur dioxide  density    pH  sulphates  \\\n",
       "0                 45.0                 170.0   1.0010  3.00       0.45   \n",
       "1                 14.0                 132.0   0.9940  3.30       0.49   \n",
       "2                 30.0                  97.0   0.9951  3.26       0.44   \n",
       "3                 47.0                 186.0   0.9956  3.19       0.40   \n",
       "4                 47.0                 186.0   0.9956  3.19       0.40   \n",
       "\n",
       "   alcohol  quality  \n",
       "0      8.8        6  \n",
       "1      9.5        6  \n",
       "2     10.1        6  \n",
       "3      9.9        6  \n",
       "4      9.9        6  "
      ]
     },
     "execution_count": 2,
     "metadata": {},
     "output_type": "execute_result"
    }
   ],
   "source": [
    "#read in data for analysis\n",
    "white_wine_data = pd.read_csv('winequality-white.csv',sep=';')\n",
    "white_wine_data.head()"
   ]
  },
  {
   "cell_type": "code",
   "execution_count": 47,
   "metadata": {},
   "outputs": [
    {
     "name": "stdout",
     "output_type": "stream",
     "text": [
      "(4898, 3)\n",
      "(4898,)\n",
      "[6 5 7 8 4 3 9]\n"
     ]
    }
   ],
   "source": [
    "#specify the data to be used in running the model\n",
    "X = white_wine_data[['residual sugar','pH','alcohol']]\n",
    "y = white_wine_data['quality']\n",
    "print(X.shape)\n",
    "print(y.shape)\n",
    "print(white_wine_data['quality'].unique())"
   ]
  },
  {
   "cell_type": "code",
   "execution_count": 48,
   "metadata": {},
   "outputs": [],
   "source": [
    "#split data for training and testing\n",
    "from sklearn.model_selection import train_test_split\n",
    "X_train, X_test, y_train, y_test = train_test_split(X, y, random_state=1)"
   ]
  },
  {
   "cell_type": "code",
   "execution_count": 49,
   "metadata": {
    "collapsed": true
   },
   "outputs": [],
   "source": [
    "#scale data and normalize\n",
    "from sklearn.preprocessing import StandardScaler\n",
    "scaler = StandardScaler()\n",
    "X_train_scaled = scaler.fit_transform(X_train)\n",
    "X_test_scaled = scaler.fit_transform(X_test)"
   ]
  },
  {
   "cell_type": "code",
   "execution_count": 97,
   "metadata": {},
   "outputs": [
    {
     "data": {
      "text/plain": [
       "array([ 0.,  0.,  0.,  0.,  1.,  0.,  0.,  0.,  0.])"
      ]
     },
     "execution_count": 97,
     "metadata": {},
     "output_type": "execute_result"
    }
   ],
   "source": [
    "from keras.utils import to_categorical\n",
    "\n",
    "# One-hot encoding\n",
    "y_train_categorical = to_categorical(y_train)\n",
    "y_test_categorical = to_categorical(y_test)\n",
    "y_test_categorical[0]"
   ]
  },
  {
   "cell_type": "code",
   "execution_count": 93,
   "metadata": {},
   "outputs": [],
   "source": [
    "from keras.models import Sequential\n",
    "from keras.layers import Dense\n",
    "model = Sequential()\n",
    "model.add(Dense(units=6,activation='relu',input_dim=3))\n",
    "model.add(Dense(units=6,activation='relu'))\n",
    "model.add(Dense(units=3,activation='relu'))\n",
    "model.add(Dense(units=10,activation='softmax'))"
   ]
  },
  {
   "cell_type": "code",
   "execution_count": 99,
   "metadata": {},
   "outputs": [
    {
     "name": "stdout",
     "output_type": "stream",
     "text": [
      "_________________________________________________________________\n",
      "Layer (type)                 Output Shape              Param #   \n",
      "=================================================================\n",
      "dense_53 (Dense)             (None, 6)                 24        \n",
      "_________________________________________________________________\n",
      "dense_54 (Dense)             (None, 6)                 42        \n",
      "_________________________________________________________________\n",
      "dense_55 (Dense)             (None, 3)                 21        \n",
      "_________________________________________________________________\n",
      "dense_56 (Dense)             (None, 10)                40        \n",
      "=================================================================\n",
      "Total params: 127\n",
      "Trainable params: 127\n",
      "Non-trainable params: 0\n",
      "_________________________________________________________________\n"
     ]
    }
   ],
   "source": [
    "model.summary()"
   ]
  },
  {
   "cell_type": "code",
   "execution_count": 100,
   "metadata": {
    "collapsed": true
   },
   "outputs": [],
   "source": [
    "model.compile(optimizer='adam', \n",
    "              loss='categorical_crossentropy', \n",
    "              metrics=['accuracy'])"
   ]
  },
  {
   "cell_type": "code",
   "execution_count": 101,
   "metadata": {
    "scrolled": true
   },
   "outputs": [
    {
     "name": "stdout",
     "output_type": "stream",
     "text": [
      "Epoch 1/100\n",
      "3673/3673 [==============================] - 2s 535us/step - loss: 2.2447 - acc: 0.3730\n",
      "Epoch 2/100\n",
      "3673/3673 [==============================] - 1s 207us/step - loss: 2.1148 - acc: 0.4492\n",
      "Epoch 3/100\n",
      "3673/3673 [==============================] - 1s 200us/step - loss: 2.0063 - acc: 0.4503\n",
      "Epoch 4/100\n",
      "3673/3673 [==============================] - 1s 200us/step - loss: 1.7112 - acc: 0.4503\n",
      "Epoch 5/100\n",
      "3673/3673 [==============================] - 1s 206us/step - loss: 1.3887 - acc: 0.4519\n",
      "Epoch 6/100\n",
      "3673/3673 [==============================] - 1s 211us/step - loss: 1.2731 - acc: 0.4879\n",
      "Epoch 7/100\n",
      "3673/3673 [==============================] - 1s 213us/step - loss: 1.2341 - acc: 0.4944\n",
      "Epoch 8/100\n",
      "3673/3673 [==============================] - 1s 205us/step - loss: 1.2116 - acc: 0.4969\n",
      "Epoch 9/100\n",
      "3673/3673 [==============================] - 1s 207us/step - loss: 1.1978 - acc: 0.4941\n",
      "Epoch 10/100\n",
      "3673/3673 [==============================] - 1s 236us/step - loss: 1.1897 - acc: 0.4974\n",
      "Epoch 11/100\n",
      "3673/3673 [==============================] - 1s 203us/step - loss: 1.1831 - acc: 0.4955\n",
      "Epoch 12/100\n",
      "3673/3673 [==============================] - 1s 210us/step - loss: 1.1792 - acc: 0.4966\n",
      "Epoch 13/100\n",
      "3673/3673 [==============================] - 1s 211us/step - loss: 1.1751 - acc: 0.4966\n",
      "Epoch 14/100\n",
      "3673/3673 [==============================] - 1s 211us/step - loss: 1.1718 - acc: 0.4950\n",
      "Epoch 15/100\n",
      "3673/3673 [==============================] - 1s 221us/step - loss: 1.1695 - acc: 0.4990\n",
      "Epoch 16/100\n",
      "3673/3673 [==============================] - 1s 211us/step - loss: 1.1672 - acc: 0.4961\n",
      "Epoch 17/100\n",
      "3673/3673 [==============================] - 1s 228us/step - loss: 1.1667 - acc: 0.4988\n",
      "Epoch 18/100\n",
      "3673/3673 [==============================] - 1s 212us/step - loss: 1.1646 - acc: 0.5004\n",
      "Epoch 19/100\n",
      "3673/3673 [==============================] - 1s 212us/step - loss: 1.1634 - acc: 0.4996\n",
      "Epoch 20/100\n",
      "3673/3673 [==============================] - 1s 205us/step - loss: 1.1623 - acc: 0.5029\n",
      "Epoch 21/100\n",
      "3673/3673 [==============================] - 1s 214us/step - loss: 1.1606 - acc: 0.5018\n",
      "Epoch 22/100\n",
      "3673/3673 [==============================] - 1s 215us/step - loss: 1.1600 - acc: 0.5099\n",
      "Epoch 23/100\n",
      "3673/3673 [==============================] - 1s 211us/step - loss: 1.1595 - acc: 0.5048\n",
      "Epoch 24/100\n",
      "3673/3673 [==============================] - 1s 206us/step - loss: 1.1583 - acc: 0.4988\n",
      "Epoch 25/100\n",
      "3673/3673 [==============================] - 1s 211us/step - loss: 1.1576 - acc: 0.5094\n",
      "Epoch 26/100\n",
      "3673/3673 [==============================] - 1s 214us/step - loss: 1.1567 - acc: 0.5034\n",
      "Epoch 27/100\n",
      "3673/3673 [==============================] - 1s 205us/step - loss: 1.1557 - acc: 0.5078\n",
      "Epoch 28/100\n",
      "3673/3673 [==============================] - 1s 208us/step - loss: 1.1562 - acc: 0.5099 0s - loss: 1.1965 -\n",
      "Epoch 29/100\n",
      "3673/3673 [==============================] - 1s 205us/step - loss: 1.1552 - acc: 0.5080\n",
      "Epoch 30/100\n",
      "3673/3673 [==============================] - 1s 212us/step - loss: 1.1542 - acc: 0.5039\n",
      "Epoch 31/100\n",
      "3673/3673 [==============================] - 1s 209us/step - loss: 1.1542 - acc: 0.5056\n",
      "Epoch 32/100\n",
      "3673/3673 [==============================] - 1s 206us/step - loss: 1.1531 - acc: 0.5088\n",
      "Epoch 33/100\n",
      "3673/3673 [==============================] - 1s 199us/step - loss: 1.1537 - acc: 0.5026\n",
      "Epoch 34/100\n",
      "3673/3673 [==============================] - 1s 203us/step - loss: 1.1528 - acc: 0.5078\n",
      "Epoch 35/100\n",
      "3673/3673 [==============================] - 1s 209us/step - loss: 1.1518 - acc: 0.5102\n",
      "Epoch 36/100\n",
      "3673/3673 [==============================] - 1s 207us/step - loss: 1.1514 - acc: 0.5097\n",
      "Epoch 37/100\n",
      "3673/3673 [==============================] - 1s 205us/step - loss: 1.1512 - acc: 0.5105\n",
      "Epoch 38/100\n",
      "3673/3673 [==============================] - 1s 200us/step - loss: 1.1516 - acc: 0.5059\n",
      "Epoch 39/100\n",
      "3673/3673 [==============================] - 1s 200us/step - loss: 1.1504 - acc: 0.5067\n",
      "Epoch 40/100\n",
      "3673/3673 [==============================] - 1s 201us/step - loss: 1.1507 - acc: 0.5108\n",
      "Epoch 41/100\n",
      "3673/3673 [==============================] - 1s 197us/step - loss: 1.1490 - acc: 0.5078\n",
      "Epoch 42/100\n",
      "3673/3673 [==============================] - 1s 193us/step - loss: 1.1509 - acc: 0.5064\n",
      "Epoch 43/100\n",
      "3673/3673 [==============================] - 1s 197us/step - loss: 1.1490 - acc: 0.5067\n",
      "Epoch 44/100\n",
      "3673/3673 [==============================] - 1s 195us/step - loss: 1.1488 - acc: 0.5099\n",
      "Epoch 45/100\n",
      "3673/3673 [==============================] - 1s 200us/step - loss: 1.1482 - acc: 0.5094\n",
      "Epoch 46/100\n",
      "3673/3673 [==============================] - 1s 204us/step - loss: 1.1488 - acc: 0.5080 0s - loss: 1.1500 - acc: \n",
      "Epoch 47/100\n",
      "3673/3673 [==============================] - 1s 209us/step - loss: 1.1475 - acc: 0.5078\n",
      "Epoch 48/100\n",
      "3673/3673 [==============================] - 1s 194us/step - loss: 1.1475 - acc: 0.5091\n",
      "Epoch 49/100\n",
      "3673/3673 [==============================] - 1s 198us/step - loss: 1.1478 - acc: 0.5105\n",
      "Epoch 50/100\n",
      "3673/3673 [==============================] - 1s 198us/step - loss: 1.1467 - acc: 0.5132\n",
      "Epoch 51/100\n",
      "3673/3673 [==============================] - 1s 197us/step - loss: 1.1464 - acc: 0.5118\n",
      "Epoch 52/100\n",
      "3673/3673 [==============================] - 1s 217us/step - loss: 1.1466 - acc: 0.5094\n",
      "Epoch 53/100\n",
      "3673/3673 [==============================] - 1s 196us/step - loss: 1.1462 - acc: 0.5091\n",
      "Epoch 54/100\n",
      "3673/3673 [==============================] - 1s 177us/step - loss: 1.1462 - acc: 0.5116\n",
      "Epoch 55/100\n",
      "3673/3673 [==============================] - 1s 189us/step - loss: 1.1463 - acc: 0.5059\n",
      "Epoch 56/100\n",
      "3673/3673 [==============================] - 1s 200us/step - loss: 1.1460 - acc: 0.5105\n",
      "Epoch 57/100\n",
      "3673/3673 [==============================] - 1s 186us/step - loss: 1.1453 - acc: 0.5072\n",
      "Epoch 58/100\n",
      "3673/3673 [==============================] - 1s 197us/step - loss: 1.1446 - acc: 0.5116 0s - loss: 1.0829 - \n",
      "Epoch 59/100\n",
      "3673/3673 [==============================] - 1s 198us/step - loss: 1.1445 - acc: 0.5108\n",
      "Epoch 60/100\n",
      "3673/3673 [==============================] - 1s 197us/step - loss: 1.1452 - acc: 0.5116\n",
      "Epoch 61/100\n",
      "3673/3673 [==============================] - 1s 202us/step - loss: 1.1437 - acc: 0.5124\n",
      "Epoch 62/100\n",
      "3673/3673 [==============================] - 1s 190us/step - loss: 1.1439 - acc: 0.5151\n",
      "Epoch 63/100\n",
      "3673/3673 [==============================] - 1s 196us/step - loss: 1.1437 - acc: 0.5110\n",
      "Epoch 64/100\n",
      "3673/3673 [==============================] - 1s 196us/step - loss: 1.1436 - acc: 0.5091\n",
      "Epoch 65/100\n",
      "3673/3673 [==============================] - 1s 192us/step - loss: 1.1432 - acc: 0.5154\n",
      "Epoch 66/100\n",
      "3673/3673 [==============================] - 1s 193us/step - loss: 1.1433 - acc: 0.5116\n",
      "Epoch 67/100\n",
      "3673/3673 [==============================] - 1s 193us/step - loss: 1.1432 - acc: 0.5157\n",
      "Epoch 68/100\n",
      "3673/3673 [==============================] - 1s 189us/step - loss: 1.1432 - acc: 0.5094\n",
      "Epoch 69/100\n",
      "3673/3673 [==============================] - 1s 162us/step - loss: 1.1428 - acc: 0.5129\n",
      "Epoch 70/100\n",
      "3673/3673 [==============================] - 1s 198us/step - loss: 1.1425 - acc: 0.5173\n",
      "Epoch 71/100\n",
      "3673/3673 [==============================] - 1s 198us/step - loss: 1.1427 - acc: 0.5140\n",
      "Epoch 72/100\n",
      "3673/3673 [==============================] - 1s 190us/step - loss: 1.1425 - acc: 0.5121\n",
      "Epoch 73/100\n",
      "3673/3673 [==============================] - 1s 183us/step - loss: 1.1423 - acc: 0.5157\n",
      "Epoch 74/100\n",
      "3673/3673 [==============================] - 1s 187us/step - loss: 1.1414 - acc: 0.5146\n",
      "Epoch 75/100\n",
      "3673/3673 [==============================] - 1s 169us/step - loss: 1.1421 - acc: 0.5135\n",
      "Epoch 76/100\n",
      "3673/3673 [==============================] - 1s 185us/step - loss: 1.1419 - acc: 0.5140\n",
      "Epoch 77/100\n",
      "3673/3673 [==============================] - 1s 194us/step - loss: 1.1418 - acc: 0.5116\n",
      "Epoch 78/100\n",
      "3673/3673 [==============================] - 1s 159us/step - loss: 1.1414 - acc: 0.5132\n",
      "Epoch 79/100\n",
      "3673/3673 [==============================] - 1s 187us/step - loss: 1.1412 - acc: 0.5151\n",
      "Epoch 80/100\n",
      "3673/3673 [==============================] - 1s 181us/step - loss: 1.1410 - acc: 0.5129\n",
      "Epoch 81/100\n"
     ]
    },
    {
     "name": "stdout",
     "output_type": "stream",
     "text": [
      "3673/3673 [==============================] - 1s 184us/step - loss: 1.1406 - acc: 0.5146\n",
      "Epoch 82/100\n",
      "3673/3673 [==============================] - 1s 187us/step - loss: 1.1409 - acc: 0.5189\n",
      "Epoch 83/100\n",
      "3673/3673 [==============================] - 1s 182us/step - loss: 1.1406 - acc: 0.5127\n",
      "Epoch 84/100\n",
      "3673/3673 [==============================] - 1s 174us/step - loss: 1.1395 - acc: 0.5162\n",
      "Epoch 85/100\n",
      "3673/3673 [==============================] - 1s 184us/step - loss: 1.1406 - acc: 0.5140\n",
      "Epoch 86/100\n",
      "3673/3673 [==============================] - 1s 193us/step - loss: 1.1410 - acc: 0.5135\n",
      "Epoch 87/100\n",
      "3673/3673 [==============================] - 1s 181us/step - loss: 1.1400 - acc: 0.5165\n",
      "Epoch 88/100\n",
      "3673/3673 [==============================] - 1s 194us/step - loss: 1.1392 - acc: 0.5124\n",
      "Epoch 89/100\n",
      "3673/3673 [==============================] - 1s 190us/step - loss: 1.1402 - acc: 0.5129\n",
      "Epoch 90/100\n",
      "3673/3673 [==============================] - 1s 187us/step - loss: 1.1388 - acc: 0.5157\n",
      "Epoch 91/100\n",
      "3673/3673 [==============================] - 1s 201us/step - loss: 1.1394 - acc: 0.5195\n",
      "Epoch 92/100\n",
      "3673/3673 [==============================] - 1s 198us/step - loss: 1.1389 - acc: 0.5167\n",
      "Epoch 93/100\n",
      "3673/3673 [==============================] - 1s 217us/step - loss: 1.1395 - acc: 0.5135\n",
      "Epoch 94/100\n",
      "3673/3673 [==============================] - 1s 213us/step - loss: 1.1400 - acc: 0.5165\n",
      "Epoch 95/100\n",
      "3673/3673 [==============================] - 1s 220us/step - loss: 1.1392 - acc: 0.5165\n",
      "Epoch 96/100\n",
      "3673/3673 [==============================] - 1s 183us/step - loss: 1.1388 - acc: 0.5195\n",
      "Epoch 97/100\n",
      "3673/3673 [==============================] - 1s 194us/step - loss: 1.1393 - acc: 0.5173\n",
      "Epoch 98/100\n",
      "3673/3673 [==============================] - 1s 195us/step - loss: 1.1386 - acc: 0.5186\n",
      "Epoch 99/100\n",
      "3673/3673 [==============================] - 1s 197us/step - loss: 1.1387 - acc: 0.5197\n",
      "Epoch 100/100\n",
      "3673/3673 [==============================] - 1s 195us/step - loss: 1.1388 - acc: 0.5157\n"
     ]
    },
    {
     "data": {
      "text/plain": [
       "<keras.callbacks.History at 0x1f922285b00>"
      ]
     },
     "execution_count": 101,
     "metadata": {},
     "output_type": "execute_result"
    }
   ],
   "source": [
    "model.fit(X_train_scaled,y_train_categorical,epochs=100,shuffle=True,verbose=1)"
   ]
  },
  {
   "cell_type": "code",
   "execution_count": 102,
   "metadata": {},
   "outputs": [],
   "source": [
    "pred = model.predict(X_test)"
   ]
  },
  {
   "cell_type": "code",
   "execution_count": null,
   "metadata": {},
   "outputs": [],
   "source": []
  },
  {
   "cell_type": "code",
   "execution_count": null,
   "metadata": {
    "collapsed": true
   },
   "outputs": [],
   "source": []
  }
 ],
 "metadata": {
  "kernelspec": {
   "display_name": "Python [conda env:PythonData]",
   "language": "python",
   "name": "conda-env-PythonData-py"
  },
  "language_info": {
   "codemirror_mode": {
    "name": "ipython",
    "version": 3
   },
   "file_extension": ".py",
   "mimetype": "text/x-python",
   "name": "python",
   "nbconvert_exporter": "python",
   "pygments_lexer": "ipython3",
   "version": "3.6.3"
  }
 },
 "nbformat": 4,
 "nbformat_minor": 2
}
